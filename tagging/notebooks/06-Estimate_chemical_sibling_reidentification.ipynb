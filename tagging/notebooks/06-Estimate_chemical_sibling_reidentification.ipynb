{
 "cells": [
  {
   "cell_type": "markdown",
   "metadata": {},
   "source": [
    "# Sibling reidentifcation\n",
    "\n",
    "This notebook can be used for replicating the chemical tagging figure in the paper.\n",
    "\n",
    "The notebook contains two parts. A first section introduces a script for calculating how many stars are more chemically similar than their sibling. A second script shows how to use this information to replicate the figure used in the paper.\n",
    "\n",
    "## Estimating \"stellar doppelgangers\"\n",
    "\n",
    "The number of chemical doppelgangers can be estimated by running the script ```/tagging/scripts/xx``` for the factorDis and faderDis methods and by running  to get the distances for an existing neural network model or run the script ```/tagging/scripts/xx``` for the polyDis method."
   ]
  },
  {
   "cell_type": "code",
   "execution_count": null,
   "metadata": {},
   "outputs": [],
   "source": [
    "! python ../scripts/calculate_neural_latent_distances.py --help"
   ]
  },
  {
   "cell_type": "code",
   "execution_count": null,
   "metadata": {},
   "outputs": [],
   "source": [
    "! python ../scripts/estimate_neural_doppelgangers.py --data_file /share/splinter/ddm/taggingProject/taggingClean/data/final/train/spectra_noiseless.pd --model_file /share/splinter/ddm/taggingProject/taggingRepo/outputs/results_fader/run1/adN7214I800 --n_conditioned 2 --savepath \"doppelgangers\""
   ]
  },
  {
   "cell_type": "code",
   "execution_count": null,
   "metadata": {},
   "outputs": [],
   "source": [
    "! python ../scripts/estimate_neural_doppelgangers.py --data_file /share/splinter/ddm/taggingProject/taggingClean/data/final/train/spectra_noiseless.pd --model_file conditional_parallel_decoder1.p --savepath \"doppelgangers\" --n_conditioned 2 --n_bins 1000 \n"
   ]
  },
  {
   "cell_type": "code",
   "execution_count": null,
   "metadata": {},
   "outputs": [],
   "source": [
    "! python ../scripts/estimate_neural_doppelgangers.py --data_file /share/splinter/ddm/taggingProject/taggingClean/data/final/train/spectra_noiseless.pd --model_file conditional_parallel_decoder1.p --savepath \"doppelgangers\" --n_conditioned 2 --n_bins 1000 \n"
   ]
  },
  {
   "cell_type": "code",
   "execution_count": null,
   "metadata": {},
   "outputs": [],
   "source": [
    "! python ../scripts/estimate_neural_doppelgangers.py --data_file /share/splinter/ddm/taggingProject/taggingClean/data/final/train/spectra_noiseless.pd --model_file conditional_parallel_decoder1.p --savepath \"doppelgangers\" --n_conditioned 2 --n_bins 1000 \n"
   ]
  },
  {
   "cell_type": "code",
   "execution_count": null,
   "metadata": {},
   "outputs": [],
   "source": [
    "! python ../scripts/estimate_neural_doppelgangers.py --data_file /share/splinter/ddm/taggingProject/taggingClean/data/final/train/spectra_noiseless.pd --model_file conditional_parallel_decoder1.p --savepath \"doppelgangers\" --n_conditioned 2 --n_bins 1000 \n"
   ]
  },
  {
   "cell_type": "code",
   "execution_count": null,
   "metadata": {},
   "outputs": [],
   "source": [
    "! python ../scripts/estimate_neural_doppelgangers.py --data_file /share/splinter/ddm/taggingProject/taggingClean/data/final/train/spectra_noiseless.pd --model_file conditional_parallel_decoder1.p --savepath \"doppelgangers\" --n_conditioned 2 --n_bins 1000 \n"
   ]
  },
  {
   "cell_type": "code",
   "execution_count": null,
   "metadata": {},
   "outputs": [],
   "source": [
    "! python ../scripts/estimate_polynomial_doppelgangers.py --data_file /share/splinter/ddm/taggingProject/taggingClean/data/final/train/spectra_noiseless.pd --n_pca 50 --n_degree 4 --savepath \"doppelgangers_poly\"  --n_bins 1000"
   ]
  },
  {
   "cell_type": "markdown",
   "metadata": {},
   "source": [
    "## Plotting the doppelgangers\n",
    "\n",
    "We show below a bit of code for plotting these doppelgangers as was done in the papre. By default, this uses precalculated outputs found in ```outputs/distances/``` feel free to replace with those you calculated yourself in the first part of this notebook."
   ]
  },
  {
   "cell_type": "code",
   "execution_count": null,
   "metadata": {},
   "outputs": [],
   "source": [
    "import numpy as np\n",
    "import pickle\n",
    "import matplotlib.pyplot as plt\n",
    "import matplotlib\n",
    "\n",
    "\n",
    "def load_ranking(folder,SNR):\n",
    "    with open('../../outputs/rankings/{}/rankings{}.p'.format(folder,SNR), 'rb') as handle: \n",
    "        ranking = pickle.load(handle)\n",
    "    ranking = [(i-1) for i in ranking]\n",
    "    return ranking\n",
    "\n",
    "\n",
    "folders = [\"factorDis\",\"polyDis\",\"factorDiswZ\",\"faderDis\",\"faderDiswZ\"]\n",
    "SNRs = [0,100,50,30] #we use 0 for infinity for readability \n",
    "rankings = {}\n",
    "for folder in folders:\n",
    "    rankings[folder]={}\n",
    "    for SNR in SNRs:\n",
    "        rankings[folder][str(SNR)] = load_ranking(folder,SNR)\n",
    "\n",
    "\n",
    "\n",
    "bins = np.logspace(np.log10(10),np.log10(50000))\n",
    "bins = np.concatenate((np.arange(0,10),bins))\n",
    "\n",
    "\n",
    "fig, axes = plt.subplots(2,3,sharex=True, sharey=True,gridspec_kw={'hspace': 0, 'wspace': 0})\n",
    "\n",
    "\n",
    "def plot_axis(ax,rankings,SNRs,bins,text):\n",
    "    for i in range(len(SNRs)):\n",
    "        SNR = SNRs[i]\n",
    "        if SNR == 0:\n",
    "            label = r\"no noise\"\n",
    "        else:\n",
    "            label =r\"SNR={}\".format(SNR)\n",
    "        n, bins, patches = ax.hist(rankings[str(SNR)], bins=bins, density=True, histtype='step',cumulative=True, label=label)\n",
    "    ax.get_xaxis().set_major_formatter(matplotlib.ticker.ScalarFormatter())\n",
    "    ax.set(xscale=\"log\")\n",
    "    ax.text(0.7, 0.08, text, transform=ax.transAxes, size=16)\n",
    "    ax.minorticks_on()\n",
    "    ax.grid(which=\"both\")\n",
    "    ax.grid(which='minor', alpha=0.2)\n",
    "    ax.grid(which='major', alpha=0.5)\n",
    "    plt.ylim(0,1)\n",
    "    return ax\n",
    "\n",
    "axes[0,0] = plot_axis(axes[0,0],rankings[\"faderDis\"],SNRs,bins,\"a\")\n",
    "yticks = axes[0,0].yaxis.get_major_ticks() \n",
    "yticks[0].label1.set_visible(False)\n",
    "axes[1,0] = plot_axis(axes[1,0],rankings[\"faderDiswZ\"],SNRs,bins,\"c\")\n",
    "axes[0,1] = plot_axis(axes[0,1],rankings[\"factorDis\"],SNRs,bins,\"b\")\n",
    "axes[1,1] = plot_axis(axes[1,1],rankings[\"factorDiswZ\"],SNRs,bins,\"d\")\n",
    "axes[1,2] = plot_axis(axes[1,2],rankings[\"polyDis\"],SNRs,bins,\"e\")\n",
    "#ax3.legend(loc=(0.4,0.4))\n",
    "#axes[1,2].legend(loc=\"upper right\",bbox_to_anchor=(0., 1.2))\n",
    "#axes[1,2].legend(loc=((0.18,1.3)),borderpad=3)\n",
    "axes[1,2].legend(loc=((-0.1,1.1)),borderpad=3,frameon=False)\n",
    "\n",
    "\n",
    "fig.text(0.5,0.04, \"$N_{doppelganger}$\", ha=\"center\", va=\"center\")\n",
    "#fig.text(0.03, 0.5, 'p', va='center', rotation='vertical',fontsize=16)\n",
    "\n",
    "fig.text(0.035, 0.3, 'with [Fe/H]', va='center', rotation='vertical',fontsize=11)\n",
    "fig.text(0.05, 0.5, 'p', va='center', rotation='vertical',fontsize=14)\n",
    "fig.text(0.035, 0.7, 'without [Fe/H]', va='center', rotation='vertical',fontsize=11)\n",
    "#fig.text(0.035, 0.7, 'p', va='center', rotation='vertical',fontsize=14)\n",
    "fig.text(0.185,0.9,\"FaderDis\")\n",
    "fig.text(0.44,0.9,\"FactorDis\")\n",
    "fig.text(0.72,0.9,\"PolyDis\")\n",
    "\n"
   ]
  },
  {
   "cell_type": "code",
   "execution_count": null,
   "metadata": {},
   "outputs": [],
   "source": []
  }
 ],
 "metadata": {
  "kernelspec": {
   "display_name": "taggenv",
   "language": "python",
   "name": "taggenv"
  },
  "language_info": {
   "codemirror_mode": {
    "name": "ipython",
    "version": 3
   },
   "file_extension": ".py",
   "mimetype": "text/x-python",
   "name": "python",
   "nbconvert_exporter": "python",
   "pygments_lexer": "ipython3",
   "version": "3.6.8"
  }
 },
 "nbformat": 4,
 "nbformat_minor": 2
}
