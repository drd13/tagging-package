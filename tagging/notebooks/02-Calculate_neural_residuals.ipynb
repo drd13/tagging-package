{
 "cells": [
  {
   "cell_type": "markdown",
   "metadata": {},
   "source": [
    "## Neural Residuals\n",
    "\n",
    "This notebook calculates and pickles residuals for spectral fits using neural network. These results are then visualized in notebook 03 and can be used to reproduce a figure in the paper.\n",
    "\n",
    "Setting ```n_conditioned=2``` leads to only removing temperature and surface gravity from the spectra. Setting ```n_conditioned=3``` also removes metallicity."
   ]
  },
  {
   "cell_type": "code",
   "execution_count": null,
   "metadata": {},
   "outputs": [],
   "source": [
    "import pandas as pd\n",
    "import sqlite3\n",
    "import matplotlib.pyplot as plt\n",
    "import numpy as np\n",
    "from torch.utils.data import Dataset, DataLoader\n",
    "import torch\n",
    "from torch.autograd import Variable\n",
    "import torch.nn as nn\n",
    "import torch.nn.functional as F\n",
    "import numpy as np\n",
    "import sys\n",
    "import pickle\n",
    "import os\n",
    "\n",
    "from tagging.src.datasets import ApogeeDataset\n",
    "from tagging.src.networks import ConditioningAutoencoder,Embedding_Decoder,Feedforward\n",
    "from tagging.src.utils import get_batch, invert_x,get_xdata,load_model\n",
    "from tagging.paths import basepath,path_dataset\n",
    "\n",
    "\n",
    "device = torch.device(\"cuda:0\" if torch.cuda.is_available() else \"cpu\")"
   ]
  },
  {
   "cell_type": "code",
   "execution_count": null,
   "metadata": {},
   "outputs": [],
   "source": [
    "n_batch = 9\n",
    "n_bins = 7751 \n",
    "n_conditioned = 3\n",
    "n_z = 20"
   ]
  },
  {
   "cell_type": "markdown",
   "metadata": {},
   "source": [
    "we next load the data and the model"
   ]
  },
  {
   "cell_type": "code",
   "execution_count": null,
   "metadata": {},
   "outputs": [],
   "source": [
    "\n",
    "data = pd.read_pickle(path_dataset)\n",
    "data_plotting = pd.read_pickle(os.path.join(os.path.split(basepath)[0],\"data\",\"processed\",\"spectra_visualization.pd\"))\n",
    "\n",
    "overall_data = data_plotting.append(data,ignore_index=True)\n",
    "\n",
    "\n",
    "dataset = ApogeeDataset(overall_data,n_bins)\n"
   ]
  },
  {
   "cell_type": "markdown",
   "metadata": {},
   "source": [
    "we load the spectra and associated parameters for the stars we will visualize"
   ]
  },
  {
   "cell_type": "code",
   "execution_count": null,
   "metadata": {},
   "outputs": [],
   "source": [
    "x_test1,u_test1,v_test1,idx_test1 = get_batch(0,n_batch,dataset)\n",
    "x_test2,u_test2,v_test2,idx_test2 = get_batch(9,n_batch,dataset)"
   ]
  },
  {
   "cell_type": "markdown",
   "metadata": {},
   "source": [
    "We load the model we want to calculate residuals for by passing its path to ```load_model```"
   ]
  },
  {
   "cell_type": "code",
   "execution_count": null,
   "metadata": {},
   "outputs": [],
   "source": [
    "conditioning_autoencoder = load_model(\"../../outputs/models/faderDiswFe.save\")"
   ]
  },
  {
   "cell_type": "markdown",
   "metadata": {},
   "source": [
    "we next evaluate the models"
   ]
  },
  {
   "cell_type": "code",
   "execution_count": null,
   "metadata": {},
   "outputs": [],
   "source": [
    "_,z1 = conditioning_autoencoder(x_test1,u_test1[:,0:n_conditioned],train_decoder=False)\n",
    "_,z2 = conditioning_autoencoder(x_test2,u_test2[:,0:n_conditioned],train_decoder=False)\n",
    "x1_pred,_ = conditioning_autoencoder(z1,u_test1[:,0:n_conditioned],train_encoder=False)\n",
    "x1_pred_swp,_ = conditioning_autoencoder(z1,u_test2[:,0:n_conditioned],train_encoder=False)"
   ]
  },
  {
   "cell_type": "code",
   "execution_count": null,
   "metadata": {},
   "outputs": [],
   "source": [
    "x_test1 = invert_x(x_test1)\n",
    "x_test2 = invert_x(x_test2)\n",
    "x1_pred = invert_x(x1_pred)\n",
    "x1_pred_swp = invert_x(x1_pred_swp)"
   ]
  },
  {
   "cell_type": "markdown",
   "metadata": {},
   "source": [
    "## Plotting\n",
    "\n",
    "We can now plot the visualized stars"
   ]
  },
  {
   "cell_type": "code",
   "execution_count": null,
   "metadata": {},
   "outputs": [],
   "source": [
    "xdata = get_xdata()"
   ]
  },
  {
   "cell_type": "code",
   "execution_count": null,
   "metadata": {},
   "outputs": [],
   "source": [
    "\n",
    "colors = ['#377eb8', '#ff7f00', '#4daf4a',\n",
    "                  '#f781bf', '#a65628', '#984ea3',\n",
    "                  '#999999', '#e41a1c', '#dede00']\n",
    "\n",
    "lw = 1\n",
    "ls = (0, (5, 5))\n",
    "\n",
    "i=2\n",
    "n_start = 0\n",
    "n_end = 256\n",
    "\n",
    "fig, (ax1,ax2,ax3) = plt.subplots(3,1,sharex=True,gridspec_kw={'hspace': 0, 'wspace': 0})\n",
    "\n",
    "\n",
    "\n",
    "ax1.plot(xdata[n_start:n_end],x_test1[i].detach().cpu().numpy()[n_start:n_end],linewidth=lw,label=\"$x_{1}$\",c=\"b\")\n",
    "ax1.plot(xdata[n_start:n_end],x_test2[i].detach().cpu().numpy()[n_start:n_end],linewidth=lw,label=\"$x_{2}$\",c=\"darkorange\") \n",
    "\n",
    "\n",
    "ax2.plot(xdata[n_start:n_end],x1_pred_swp[i].detach().cpu().numpy()[n_start:n_end],linewidth=lw,label=\"$D(E(x_{1},u_{1}),u_{2})$\",c=\"b\")\n",
    "ax2.plot(xdata[n_start:n_end],x_test2[i].detach().cpu().numpy()[n_start:n_end],linewidth=lw,label=\"$x_{2}$\",c=\"darkorange\")\n",
    "\n",
    "\n",
    "fig.text(0.05, 0.62, 'flux', va='center', rotation='vertical',fontsize=20)\n",
    "\n",
    "res1 = x1_pred_swp[i]-x_test2[i]\n",
    "res1 = res1.detach().cpu().numpy()\n",
    "ax3.plot(xdata[n_start:n_end],res1[n_start:n_end],linewidth=lw,label=\"$D(E(x_{1},u_{1}),u_{2})-x_{2}$\",c=\"b\")\n",
    "\n",
    "\n",
    "\n",
    "fig.text(0.05, 0.25, 'residuals', va='center', rotation='vertical',fontsize=16)\n",
    "\n",
    "fig.text(0.13,0.915,\"a) FaderDis\".format(*data[\"params\"][i][0:3]+data[\"params\"][i+25000][0:3]),va='center', rotation='horizontal',fontsize=16)\n",
    "\n",
    "fig.text(0.13,0.965,\"Star $x_1$: Teff= {} , logg = {}, [Fe/H]= {:.2g}         Star $x_2$: Teff= {} , logg = {}, [Fe/H]= {:.2g}\".format(*data[\"params\"][i][0:3]+data[\"params\"][i+25000][0:3]),va='center', rotation='horizontal',fontsize=16)\n",
    "\n",
    "\n",
    "ax1.set_ylim(0.6,1.0)\n",
    "ax2.set_ylim(0.6,1.0)\n",
    "ax3.set_ylim(-0.015,0.015)\n",
    "\n",
    "fig.set_size_inches(14.5, 6.5)\n",
    "plt.xlim(xdata[n_start],xdata[n_end])\n",
    "plt.xlabel(r\"Wavelength($\\AA$)\",fontsize=24)\n",
    "\n",
    "yticks1 = ax1.yaxis.get_major_ticks()\n",
    "yticks1[0].set_visible(False)\n",
    "\n",
    "yticks2 = ax2.yaxis.get_major_ticks()\n",
    "yticks2[0].set_visible(False)\n",
    "\n",
    "\n",
    "ax1.legend()\n",
    "ax2.legend()\n",
    "ax3.legend()"
   ]
  },
  {
   "cell_type": "markdown",
   "metadata": {},
   "source": [
    "### Pickling the residuals\n",
    "\n",
    "We can pickle our spectra residuals"
   ]
  },
  {
   "cell_type": "code",
   "execution_count": null,
   "metadata": {},
   "outputs": [],
   "source": [
    "res1 = x1_pred_swp[i]-x_test2[i]\n",
    "res1 = res1.detach().cpu().numpy()\n"
   ]
  },
  {
   "cell_type": "code",
   "execution_count": null,
   "metadata": {},
   "outputs": [],
   "source": [
    "with open(\"../../outputs/intermediate/residuals/fader.p\",\"wb\") as f:\n",
    "    pickle.dump(res1,f)\n",
    "\n"
   ]
  },
  {
   "cell_type": "code",
   "execution_count": null,
   "metadata": {},
   "outputs": [],
   "source": []
  }
 ],
 "metadata": {
  "kernelspec": {
   "display_name": "Python 3",
   "language": "python",
   "name": "python3"
  },
  "language_info": {
   "codemirror_mode": {
    "name": "ipython",
    "version": 3
   },
   "file_extension": ".py",
   "mimetype": "text/x-python",
   "name": "python",
   "nbconvert_exporter": "python",
   "pygments_lexer": "ipython3",
   "version": "3.8.5"
  }
 },
 "nbformat": 4,
 "nbformat_minor": 2
}
