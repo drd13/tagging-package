{
 "cells": [
  {
   "cell_type": "markdown",
   "metadata": {},
   "source": [
    "# Spectra Reparametrization\n",
    "\n",
    "We calculate and visualize the reconstruction of stellar spectra with and without recasting to same physical parameters."
   ]
  },
  {
   "cell_type": "code",
   "execution_count": null,
   "metadata": {},
   "outputs": [],
   "source": [
    "import pandas as pd\n",
    "import sqlite3\n",
    "import matplotlib.pyplot as plt\n",
    "import numpy as np\n",
    "from torch.utils.data import Dataset, DataLoader\n",
    "import torch\n",
    "from torch.autograd import Variable\n",
    "import torch.nn as nn\n",
    "import torch.nn.functional as F\n",
    "import numpy as np\n",
    "import os\n",
    "import sys\n",
    "import pickle\n",
    "\n",
    "\n",
    "from tagging.src.datasets import ApogeeDataset\n",
    "from tagging.src.networks import ConditioningAutoencoder,Embedding_Decoder,Feedforward\n",
    "from tagging.src.utils import get_batch, invert_x,get_xdata\n",
    "from tagging.paths import basepath,path_dataset\n"
   ]
  },
  {
   "cell_type": "code",
   "execution_count": null,
   "metadata": {},
   "outputs": [],
   "source": [
    "device = torch.device(\"cuda:0\" if torch.cuda.is_available() else \"cpu\")"
   ]
  },
  {
   "cell_type": "markdown",
   "metadata": {},
   "source": [
    "## We define some hyperparameters"
   ]
  },
  {
   "cell_type": "code",
   "execution_count": null,
   "metadata": {},
   "outputs": [],
   "source": [
    "n_batch = 9 \n",
    "n_bins = 7751 \n",
    "n_conditioned = 2"
   ]
  },
  {
   "cell_type": "markdown",
   "metadata": {},
   "source": [
    "The next line is only used for getting the wavelength axis correct"
   ]
  },
  {
   "cell_type": "code",
   "execution_count": null,
   "metadata": {},
   "outputs": [],
   "source": [
    "xdata= get_xdata()"
   ]
  },
  {
   "cell_type": "markdown",
   "metadata": {},
   "source": [
    "We next load up the data. ```data_plotting``` contains the spectra we want to visualize but because we use data-driven normalization to not mess up normalization we append it to the original data```data``` "
   ]
  },
  {
   "cell_type": "code",
   "execution_count": null,
   "metadata": {},
   "outputs": [],
   "source": [
    "data = pd.read_pickle(path_dataset)\n",
    "data_plotting = pd.read_pickle(os.path.join(os.path.split(basepath)[0],\"data\",\"processed\",\"spectra_visualization.pd\"))\n",
    "\n",
    "overall_data = data_plotting.append(data,ignore_index=True)"
   ]
  },
  {
   "cell_type": "code",
   "execution_count": null,
   "metadata": {},
   "outputs": [],
   "source": [
    "dataset = ApogeeDataset(overall_data,n_bins)\n",
    "evaluation_loader = torch.utils.data.DataLoader(dataset = dataset[0:18],\n",
    "                                     batch_size = n_batch,\n",
    "                                     shuffle = False,\n",
    "                                     drop_last=True)"
   ]
  },
  {
   "cell_type": "markdown",
   "metadata": {},
   "source": [
    "load the precalculated residuals. Residuals can be calculated from ```02-Calculate_neural_residuals```"
   ]
  },
  {
   "cell_type": "code",
   "execution_count": null,
   "metadata": {},
   "outputs": [],
   "source": [
    "with open(\"../../outputs/intermediate/residuals/fader.p\",\"rb\") as f:\n",
    "    fader_res = pickle.load(f)\n",
    "    \n",
    "\n",
    "with open(\"../../outputs/intermediate/residuals/factor.p\",\"rb\") as f:\n",
    "    factor_res = pickle.load(f)\n",
    "    \n",
    "    \n",
    "with open(\"../../outputs/intermediate/residuals/poly.p\",\"rb\") as f:\n",
    "    poly_res = pickle.load(f)\n"
   ]
  },
  {
   "cell_type": "markdown",
   "metadata": {},
   "source": [
    "We define the wavelength window we will be plotting and other aesthetic parameters"
   ]
  },
  {
   "cell_type": "code",
   "execution_count": null,
   "metadata": {},
   "outputs": [],
   "source": [
    "n_start =0 \n",
    "n_end = 256\n",
    "\n",
    "lw = 1\n",
    "ls = (0, (5, 5))\n",
    "i=0\n",
    "\n",
    "linestyles = {\n",
    "     'densely dotted':        (0, (1, 1)),\n",
    "     'densely dashed':        (0, (5, 1)),\n",
    "    }"
   ]
  },
  {
   "cell_type": "code",
   "execution_count": null,
   "metadata": {},
   "outputs": [],
   "source": [
    "n_batch=9\n",
    "x_test1,u_test1,v_test1,idx_test1 = get_batch(0,n_batch,dataset)\n",
    "x_test2,u_test2,v_test2,idx_test2 = get_batch(9,n_batch,dataset)\n",
    "x_test1 = invert_x(x_test1)\n",
    "x_test2 = invert_x(x_test2)"
   ]
  },
  {
   "cell_type": "code",
   "execution_count": null,
   "metadata": {},
   "outputs": [],
   "source": [
    "\n",
    "fig, (ax1,ax2) = plt.subplots(2,1,sharex=True,gridspec_kw={'hspace': 0, 'wspace': 0})\n",
    "\n",
    "ax1.plot(xdata[n_start:n_end],x_test1[i].detach().cpu().numpy()[n_start:n_end],linewidth=lw,label=\"$x_{1}$\",c=\"b\")\n",
    "ax1.plot(xdata[n_start:n_end],x_test2[i].detach().cpu().numpy()[n_start:n_end],linewidth=lw,label=\"$x_{2}$\",c=\"darkorange\") \n",
    "\n",
    "\n",
    "ax2.plot(xdata[n_start:n_end],fader_res[n_start:n_end],linewidth=lw,label=\"FaderDis\",c=\"b\",linestyle=linestyles[\"densely dotted\"])\n",
    "ax2.plot(xdata[n_start:n_end],factor_res[n_start:n_end],linewidth=lw,label=\"FactorDis\",c=\"r\",linestyle=linestyles[\"densely dashed\"])\n",
    "ax2.plot(xdata[n_start:n_end],poly_res[n_start:n_end],linewidth=lw,label=\"PolyDis\",c=\"g\")\n",
    "\n",
    "\n",
    "\n",
    "fig.text(0.13,0.925,\"Star $x_1$: Teff= {} , logg = {}, [Fe/H]= {:.2g}         Star $x_2$: Teff= {} , logg = {}, [Fe/H]= {:.2g}\".format(*data_plotting[\"params\"][i][0:3]+data_plotting[\"params\"][i+9][0:3]),va='center', rotation='horizontal',fontsize=16)\n",
    "\n",
    "fig.text(0.05, 0.70, 'flux', va='center', rotation='vertical',fontsize=16)\n",
    "fig.text(0.05, 0.30, 'residuals', va='center', rotation='vertical',fontsize=16)\n",
    "\n",
    "ax1.set_ylim(0.6,1.0)\n",
    "ax2.set_ylim(-0.015,0.015)\n",
    "\n",
    "\n",
    "fig.set_size_inches(14.5, 6.5)\n",
    "plt.xlim(xdata[n_start],xdata[n_end])\n",
    "plt.xlabel(r\"Wavelength($\\AA$)\",fontsize=24)\n",
    "\n",
    "yticks1 = ax1.yaxis.get_major_ticks()\n",
    "yticks1[0].set_visible(False)\n",
    "\n",
    "yticks2 = ax2.yaxis.get_major_ticks()\n",
    "yticks2[0].set_visible(False)\n",
    "\n",
    "\n",
    "ax1.legend()\n",
    "ax2.legend()\n",
    "plt.savefig(\"plotWithSwapping.pdf\",format=\"pdf\")\n"
   ]
  },
  {
   "cell_type": "code",
   "execution_count": null,
   "metadata": {},
   "outputs": [],
   "source": []
  }
 ],
 "metadata": {
  "kernelspec": {
   "display_name": "Python 3",
   "language": "python",
   "name": "python3"
  },
  "language_info": {
   "codemirror_mode": {
    "name": "ipython",
    "version": 3
   },
   "file_extension": ".py",
   "mimetype": "text/x-python",
   "name": "python",
   "nbconvert_exporter": "python",
   "pygments_lexer": "ipython3",
   "version": "3.8.5"
  }
 },
 "nbformat": 4,
 "nbformat_minor": 2
}
