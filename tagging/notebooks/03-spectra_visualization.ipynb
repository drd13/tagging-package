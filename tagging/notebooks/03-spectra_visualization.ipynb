{
 "cells": [
  {
   "cell_type": "markdown",
   "metadata": {},
   "source": [
    "# Spectra Reparametrization\n",
    "\n",
    "We calculate and visualize the reconstruction of stellar spectra with and without recasting to same physical parameters."
   ]
  },
  {
   "cell_type": "code",
   "execution_count": null,
   "metadata": {},
   "outputs": [],
   "source": [
    "import pandas as pd\n",
    "import sqlite3\n",
    "import matplotlib.pyplot as plt\n",
    "import numpy as np\n",
    "from torch.utils.data import Dataset, DataLoader\n",
    "import torch\n",
    "from torch.autograd import Variable\n",
    "import torch.nn as nn\n",
    "import torch.nn.functional as F\n",
    "import numpy as np\n",
    "from scipy import spatial\n",
    "import sys\n",
    "import pickle\n",
    "\n",
    "sys.path.insert(0,'/share/splinter/ddm/taggingClean/')\n",
    "\n",
    "from tagging.src.datasets import ApogeeDataset\n",
    "from tagging.src.networks import ConditioningAutoencoder,Embedding_Decoder,Feedforward\n"
   ]
  },
  {
   "cell_type": "code",
   "execution_count": null,
   "metadata": {},
   "outputs": [],
   "source": [
    "device = torch.device(\"cuda:0\" if torch.cuda.is_available() else \"cpu\")"
   ]
  },
  {
   "cell_type": "markdown",
   "metadata": {},
   "source": [
    "## We define some hyperparameters"
   ]
  },
  {
   "cell_type": "code",
   "execution_count": null,
   "metadata": {},
   "outputs": [],
   "source": [
    "n_batch = 9 \n",
    "n_bins = 7751 \n",
    "n_conditioned = 2"
   ]
  },
  {
   "cell_type": "markdown",
   "metadata": {},
   "source": [
    "The next line is only used for getting the wavelength axis correct"
   ]
  },
  {
   "cell_type": "code",
   "execution_count": null,
   "metadata": {},
   "outputs": [],
   "source": [
    "nlam = 8575 \n",
    "start_wl = 4.179 \n",
    "diff_wl = 6e-06 \n",
    "val = diff_wl*(nlam) + start_wl  \n",
    "wl_full_log = np.arange(start_wl,val, diff_wl) \n",
    "wl_full = [10**aval for aval in wl_full_log] \n",
    "xdata = np.array(wl_full)  \n",
    "with open(\"../data/s_train_merged\",\"rb\") as f: \n",
    "    data = pickle.load(f)  \n",
    "xdata = xdata[np.nonzero(np.nan_to_num(data[0][\"spectra\"]))[0]] \n"
   ]
  },
  {
   "cell_type": "markdown",
   "metadata": {},
   "source": [
    "We next load up the data. ```data_plotting``` contains the spectra we want to visualize but because w use data-driven normalization to not mess up normalization we append it to the original data```data``` "
   ]
  },
  {
   "cell_type": "code",
   "execution_count": null,
   "metadata": {},
   "outputs": [],
   "source": [
    "data = pd.read_pickle(\"/share/splinter/ddm/taggingClean/data/final/train/spectra_noiseless.pd\")\n",
    "data_plotting = pd.read_pickle(\"../data/plotting_merged.pd\")\n",
    "\n",
    "overall_data = data_plotting.append(data,ignore_index=True)"
   ]
  },
  {
   "cell_type": "code",
   "execution_count": null,
   "metadata": {},
   "outputs": [],
   "source": [
    "dataset = ApogeeDataset(overall_data,n_bins)\n",
    "evaluation_loader = torch.utils.data.DataLoader(dataset = dataset[0:18],\n",
    "                                     batch_size = n_batch,\n",
    "                                     shuffle = False,\n",
    "                                     drop_last=True)"
   ]
  }
 ],
 "metadata": {
  "kernelspec": {
   "display_name": "taggenv",
   "language": "python",
   "name": "taggenv"
  },
  "language_info": {
   "codemirror_mode": {
    "name": "ipython",
    "version": 3
   },
   "file_extension": ".py",
   "mimetype": "text/x-python",
   "name": "python",
   "nbconvert_exporter": "python",
   "pygments_lexer": "ipython3",
   "version": "3.6.8"
  }
 },
 "nbformat": 4,
 "nbformat_minor": 2
}
