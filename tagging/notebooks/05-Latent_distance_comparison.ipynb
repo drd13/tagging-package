{
 "cells": [
  {
   "cell_type": "markdown",
   "metadata": {},
   "source": [
    "## Latent distances comparison \n",
    "\n",
    "This notebook walks through how to compare for the different methods considered (PolyDis,FaderDis,FactorDis) the distances between stellar siblings "
   ]
  },
  {
   "cell_type": "markdown",
   "metadata": {},
   "source": [
    "## Measuring the distances\n",
    "\n",
    "The first ingredient in creating these visualizations is to evaluate the distances between all the pairs of the stars in the dataset. We have written scripts for doing just that. You can run the script ```/tagging/scripts/calculate_neural_latent_distance.py``` to get the distances for an existing neural network model or run the script ```/tagging/scripts/calculate_polynomial_latent_distance.py``` to calculate and get distances of a polynomial fit model."
   ]
  },
  {
   "cell_type": "code",
   "execution_count": null,
   "metadata": {},
   "outputs": [],
   "source": [
    "! python ../scripts/calculate_neural_latent_distances.py --help"
   ]
  },
  {
   "cell_type": "code",
   "execution_count": null,
   "metadata": {},
   "outputs": [],
   "source": [
    "! python ../scripts/calculate_neural_latent_distances.py --data_file /share/splinter/ddm/taggingProject/taggingClean/data/final/train/spectra_noiseless.pd --model_file /share/splinter/ddm/taggingProject/taggingRepo/outputs/results_fader/runWithFe0.00001/adN7214I3000 --savepath \"/share/splinter/ddm/taggingProject/taggingRepo/outputs/intermediate/distances/distances_fader_0.p\" --n_conditioned 3"
   ]
  },
  {
   "cell_type": "code",
   "execution_count": null,
   "metadata": {},
   "outputs": [],
   "source": [
    "! python ../scripts/calculate_neural_latent_distances.py --data_file /share/splinter/ddm/taggingProject/taggingClean/data/final/train/spectra_SN_50.pd --model_file /share/splinter/ddm/taggingProject/taggingRepo/outputs/results_fader/runWithFe0.00001/adN7214I3000 --savepath \"/share/splinter/ddm/taggingProject/taggingRepo/outputs/intermediate/distances/distances_fader_50.p\" --n_conditioned 3"
   ]
  },
  {
   "cell_type": "markdown",
   "metadata": {},
   "source": [
    "## Plotting the distances\n",
    "\n",
    "We show below a bit of code for plotting these disstances as was done in the paper. By default, this uses precalculated outputs found in ```outputs/distances/``` feel free to replace with those you calculated yourself in the first part of this notebook.\n"
   ]
  },
  {
   "cell_type": "code",
   "execution_count": null,
   "metadata": {},
   "outputs": [],
   "source": [
    "import pickle\n",
    "import numpy as np\n",
    "import os\n",
    "import matplotlib.pyplot as plt\n",
    "import matplotlib\n",
    "from tagging.paths import basepath"
   ]
  },
  {
   "cell_type": "code",
   "execution_count": null,
   "metadata": {},
   "outputs": [],
   "source": [
    "def load_ranking(method,SNR):\n",
    "    with open(os.path.join(os.path.split(basepath)[0],\"outputs\",\"intermediate\",\"distances\",'distances_{}_{}.p'.format(method,SNR)), 'rb') as f:\n",
    "        ranking = pickle.load(f)\n",
    "    return ranking"
   ]
  },
  {
   "cell_type": "code",
   "execution_count": null,
   "metadata": {},
   "outputs": [],
   "source": [
    "methods = [\"factor\",\"poly\",\"fader\"]\n",
    "SNRs = [0,50] #we use 0 for infinity for readability \n",
    "distances = {}\n",
    "for method in methods:\n",
    "    distances[method]={}\n",
    "    for SNR in SNRs:\n",
    "        distances[method][str(SNR)] = load_ranking(method,SNR)\n"
   ]
  },
  {
   "cell_type": "code",
   "execution_count": null,
   "metadata": {},
   "outputs": [],
   "source": [
    "fig, axes = plt.subplots(2,3,sharex=True,sharey=\"row\",gridspec_kw={'hspace': 0, 'wspace': 0})\n",
    "\n",
    "def plot_axis(ax,distances,text,x_max=10,y_max=1):\n",
    "    ax.hist(distances[\"siblings\"]/np.mean(distances[\"siblings\"]),bins=100,alpha=0.5,normed=True,label=\"chemically identical\")\n",
    "    ax.hist(distances[\"randoms\"]/np.mean(distances[\"siblings\"]),bins=100,alpha=0.5,normed=True,label=\"chemically different\")\n",
    "    ax.text(0.7, 0.08, text, transform=ax.transAxes, size=16)\n",
    "    ax.get_xaxis().set_major_formatter(matplotlib.ticker.ScalarFormatter())\n",
    "    ax.minorticks_on()\n",
    "    ax.grid(which=\"both\")\n",
    "    ax.grid(which='minor', alpha=0.2)\n",
    "    ax.grid(which='major', alpha=0.4)\n",
    "    ax.set_xlim(0,x_max)\n",
    "    ax.set_ylim(0,y_max)\n",
    "    return ax\n",
    "\n",
    "\n",
    "\n",
    "axes[0,0] = plot_axis(axes[0,0],distances[\"fader\"][\"0\"],\"a\",y_max=1)\n",
    "axes[1,0] = plot_axis(axes[1,0],distances[\"fader\"][\"50\"],\"d\",y_max=2.5)\n",
    "\n",
    "#yticks = axes[0,0].yaxis.get_major_ticks() \n",
    "#yticks[0].label1.set_visible(False)\n",
    "\n",
    "\n",
    "axes[0,1] = plot_axis(axes[0,1],distances[\"factor\"][\"0\"],\"b\",y_max=1)\n",
    "axes[1,1] = plot_axis(axes[1,1],distances[\"factor\"][\"50\"],\"e\",y_max=2.5)\n",
    "\n",
    "axes[0,2] = plot_axis(axes[0,2],distances[\"poly\"][\"0\"],\"c\",y_max=1)\n",
    "axes[1,2] = plot_axis(axes[1,2],distances[\"poly\"][\"50\"],\"f\",y_max=2.5)\n",
    "axes[0,2].legend(fontsize=8)\n",
    "\n",
    "fig.text(0.5,0.04, \"d\", ha=\"center\", va=\"center\",fontsize=14)\n",
    "fig.text(0.035, 0.3, 'SNR=50', va='center', rotation='vertical',fontsize=11)\n",
    "fig.text(0.03, 0.5, 'p', va='center', rotation='vertical',fontsize=14)\n",
    "fig.text(0.035, 0.7, 'noiseless', va='center', rotation='vertical',fontsize=11)\n",
    "\n",
    "xticks = axes[1,0].xaxis.get_major_ticks()\n",
    "xticks[-1].set_visible(False)\n",
    "\n",
    "xticks = axes[1,1].xaxis.get_major_ticks()\n",
    "xticks[-1].set_visible(False)\n",
    "\n",
    "xticks = axes[1,1].xaxis.get_major_ticks()\n",
    "xticks[-1].set_visible(False)\n",
    "\n",
    "yticks = axes[1,0].yaxis.get_major_ticks()\n",
    "yticks[-1].set_visible(False)\n",
    "\n",
    "\n",
    "\n",
    "\n",
    "fig.text(0.185,0.9,\"FaderDis\")\n",
    "fig.text(0.44,0.9,\"FactorDis\")\n",
    "fig.text(0.72,0.9,\"PolyDis\")\n",
    "fig.savefig(\"../../outputs/figures/distributionComparison.pdf\",format=\"pdf\")"
   ]
  },
  {
   "cell_type": "code",
   "execution_count": null,
   "metadata": {},
   "outputs": [],
   "source": []
  }
 ],
 "metadata": {
  "kernelspec": {
   "display_name": "taggenv",
   "language": "python",
   "name": "taggenv"
  },
  "language_info": {
   "codemirror_mode": {
    "name": "ipython",
    "version": 3
   },
   "file_extension": ".py",
   "mimetype": "text/x-python",
   "name": "python",
   "nbconvert_exporter": "python",
   "pygments_lexer": "ipython3",
   "version": "3.6.8"
  }
 },
 "nbformat": 4,
 "nbformat_minor": 2
}
