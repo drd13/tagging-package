{
 "cells": [
  {
   "cell_type": "markdown",
   "metadata": {},
   "source": [
    "## Canon Residuals\n",
    "\n",
    "This notebook calculates and pickles residuals for spectral fits. These results are then visualized in notebook 04 and can be used to reproduce a figure in the paper"
   ]
  },
  {
   "cell_type": "code",
   "execution_count": null,
   "metadata": {},
   "outputs": [],
   "source": [
    "import pandas as pd\n",
    "import sqlite3\n",
    "import matplotlib.pyplot as plt\n",
    "import numpy as np\n",
    "from torch.utils.data import Dataset, DataLoader\n",
    "import torch\n",
    "from torch.autograd import Variable\n",
    "import torch.nn as nn\n",
    "import torch.nn.functional as F\n",
    "import numpy as np\n",
    "\n",
    "\n",
    "from sklearn.preprocessing import PolynomialFeatures\n",
    "from sklearn.decomposition import PCA\n",
    "\n",
    "import sys\n",
    "import pickle\n",
    "\n",
    "from tagging.src.datasets import ApogeeDataset\n",
    "from tagging.src.networks import ConditioningAutoencoder,Embedding_Decoder,Feedforward\n",
    "from tagging.paths import path_dataset\n",
    "device = torch.device(\"cuda:0\" if torch.cuda.is_available() else \"cpu\")\n",
    "\n"
   ]
  },
  {
   "cell_type": "code",
   "execution_count": null,
   "metadata": {},
   "outputs": [],
   "source": [
    "n_batch = 9\n",
    "n_bins = 7751 \n",
    "n_conditioned = 2\n",
    "n_degree = 4"
   ]
  },
  {
   "cell_type": "code",
   "execution_count": null,
   "metadata": {},
   "outputs": [],
   "source": [
    "data = pd.read_pickle(path_dataset)\n",
    "\n",
    "overall_data = data "
   ]
  },
  {
   "cell_type": "code",
   "execution_count": null,
   "metadata": {},
   "outputs": [],
   "source": [
    "\n",
    "spectra_matrix = np.matrix(overall_data[\"spectra\"].tolist())\n",
    "spectra_matrix = spectra_matrix[0:50000]\n",
    "\n",
    "params_list = overall_data.params.tolist()\n",
    "params_list = params_list[0:50000]\n",
    "\n",
    "print(\"shape:{}\".format(np.shape(spectra_matrix)))\n",
    "\n",
    "\n",
    "polynomial = PolynomialFeatures(degree=n_degree)\n",
    "params_matrix = polynomial.fit_transform(np.array(params_list))\n",
    "d = np.dot(np.linalg.inv(np.dot(params_matrix.T,params_matrix)),params_matrix.T)\n",
    "s= np.dot(d,spectra_matrix)\n",
    "\n",
    "fit_matrix = np.dot(params_matrix,s)\n",
    "print(fit_matrix)\n",
    "residual_matrix = spectra_matrix - fit_matrix"
   ]
  },
  {
   "cell_type": "markdown",
   "metadata": {},
   "source": [
    "The dataset is designed such that the ith start is matched with the 25000+ith star in the dataset (where matched stars are stars with identical chemical composition but differing physical parameters).\n",
    "\n",
    "We can the create our stars with swapped physical parameters by adding the fit of a star with the residuals of its matched star (since residuals only contain chemical info). This is exactly what ```swapped_matrix_1``` and ```swapped_matrix_2``` are"
   ]
  },
  {
   "cell_type": "code",
   "execution_count": null,
   "metadata": {},
   "outputs": [],
   "source": [
    "swapped_matrix_1 = fit_matrix[0:25000]+residual_matrix[25000:]\n",
    "swapped_matrix_2 = fit_matrix[25000:]+residual_matrix[0:25000]\n"
   ]
  },
  {
   "cell_type": "code",
   "execution_count": null,
   "metadata": {},
   "outputs": [],
   "source": [
    "n_start = 0\n",
    "n_end = 256"
   ]
  },
  {
   "cell_type": "markdown",
   "metadata": {},
   "source": [
    "## Visualizing fit stars"
   ]
  },
  {
   "cell_type": "code",
   "execution_count": null,
   "metadata": {},
   "outputs": [],
   "source": [
    "#this section here is only to get the axis correct\n",
    "nlam = 8575 \n",
    "start_wl = 4.179 \n",
    "diff_wl = 6e-06 \n",
    "val = diff_wl*(nlam) + start_wl  \n",
    "wl_full_log = np.arange(start_wl,val, diff_wl) \n",
    "wl_full = [10**aval for aval in wl_full_log] \n",
    "xdata = np.array(wl_full)  \n",
    "\n"
   ]
  },
  {
   "cell_type": "code",
   "execution_count": null,
   "metadata": {},
   "outputs": [],
   "source": [
    "\"\"\"invert the scaling used by the neural network\"\"\"\n",
    "def invert_x(x):\n",
    "    return (x+3.5)/4\n",
    "\n",
    "#x_test1 = invert_x(x_test1)\n",
    "#x_test2 = invert_x(x_test2)\n",
    "#x1_pred = invert_x(x1_pred)\n",
    "#x1_pred_swp = invert_x(x1_pred_swp)\n",
    "\n",
    "\n",
    "##### Plotting ###################\n",
    "\n",
    "colors = ['#377eb8', '#ff7f00', '#4daf4a',\n",
    "                  '#f781bf', '#a65628', '#984ea3',\n",
    "                  '#999999', '#e41a1c', '#dede00']\n",
    "\n",
    "lw = 1\n",
    "ls = (0, (5, 5))\n",
    "\n",
    "i=1\n",
    "n_start = 0\n",
    "n_end = 256\n",
    "#n_end = 1024\n",
    "\n",
    "fig, (ax1,ax2,ax3) = plt.subplots(3,1,sharex=True,gridspec_kw={'hspace': 0, 'wspace': 0})\n",
    "\n",
    "#fig = plt.figure()\n",
    "#ax1 = fig.add_subplot(6, 1, 1)\n",
    "#ax2 = fig.add_subplot(6, 1, 2, sharex = ax1)\n",
    "#ax3 = fig.add_subplot(6, 1, 3)\n",
    "#ax4 = fig.add_subplot(6, 1, 4, sharex = ax3)\n",
    "\n",
    "print(np.shape(swapped_matrix_1[i,n_start:n_end]))\n",
    "print(np.shape(xdata[n_start:n_end]))\n",
    "\n",
    "\n",
    "swapped_1 = np.squeeze(np.array(swapped_matrix_1[:,n_start:n_end]))\n",
    "swapped_2 = np.squeeze(np.array(swapped_matrix_2[:,n_start:n_end]))\n",
    "\n",
    "original_1 = np.squeeze(np.array(spectra_matrix[:10,n_start:n_end]))\n",
    "original_2 = np.squeeze(np.array(spectra_matrix[25000:25010,n_start:n_end]))\n",
    "\n",
    "\n",
    "ax1.plot(xdata[n_start:n_end],original_1[i,n_start:n_end],linewidth=lw,label=\"$x_{1}$\",c=\"b\")\n",
    "ax1.plot(xdata[n_start:n_end],original_2[i,n_start:n_end],linewidth=lw,label=\"$x_{2}$\",c=\"darkorange\") \n",
    "\n",
    "\n",
    "ax2.plot(xdata[n_start:n_end],original_1[i,n_start:n_end],linewidth=lw,label=\"$D(E(x_{1},u_{1}),u_{2})$\",c=\"b\")\n",
    "ax2.plot(xdata[n_start:n_end],swapped_1[i,n_start:n_end],linewidth=lw,label=\"$x_{2}$\",c=\"darkorange\")\n",
    "\n",
    "\n",
    "fig.text(0.05, 0.62, 'flux', va='center', rotation='vertical',fontsize=20)\n",
    "\n",
    "res1 = original_1[i]-swapped_1[i]\n",
    "ax3.plot(xdata[n_start:n_end],res1[n_start:n_end],linewidth=lw,label=\"$D(E(x_{1},u_{1}),u_{2})-x_{2}$\",c=\"b\")\n",
    "\n",
    "\n",
    "\n",
    "fig.text(0.05, 0.25, 'residuals', va='center', rotation='vertical',fontsize=16)\n",
    "\n",
    "#fig.text(0.13,0.92,\"Star $x_1$: Teff= {} , logg = {}, [Fe/H]= {:.2g}         Star $x_2$: Teff= {} , logg = {}, [Fe/H]= {:.2g}\".format(*data_plotting[\"params\"][i][0:3]+data_plotting[\"params\"][i+9][0:3]),va='center', rotation='horizontal',fontsize=16)\n",
    "fig.text(0.13,0.92,\"c) PolyDis\",va='center', rotation='horizontal',fontsize=16)\n",
    "\n",
    "\n",
    "\n",
    "\n",
    "ax1.set_ylim(0.6,1.0)\n",
    "ax2.set_ylim(0.6,1.0)\n",
    "ax3.set_ylim(-0.025,0.025)\n",
    "\n",
    "fig.set_size_inches(14.5, 6.5)\n",
    "plt.xlim(xdata[n_start],xdata[n_end])\n",
    "plt.xlabel(r\"Wavelength($\\AA$)\",fontsize=24)\n",
    "\n",
    "yticks1 = ax1.yaxis.get_major_ticks()\n",
    "yticks1[0].set_visible(False)\n",
    "\n",
    "yticks2 = ax2.yaxis.get_major_ticks()\n",
    "yticks2[0].set_visible(False)\n",
    "\n",
    "#yticks3 = ax3.yaxis.get_major_ticks()\n",
    "#yticks3[-1].set_visible(False)\n",
    "\n",
    "\n",
    "\n",
    "\n",
    "ax1.legend()\n",
    "ax2.legend()\n",
    "ax3.legend()"
   ]
  },
  {
   "cell_type": "code",
   "execution_count": null,
   "metadata": {},
   "outputs": [],
   "source": []
  },
  {
   "cell_type": "code",
   "execution_count": null,
   "metadata": {},
   "outputs": [],
   "source": []
  }
 ],
 "metadata": {
  "kernelspec": {
   "display_name": "Python 3",
   "language": "python",
   "name": "python3"
  },
  "language_info": {
   "codemirror_mode": {
    "name": "ipython",
    "version": 3
   },
   "file_extension": ".py",
   "mimetype": "text/x-python",
   "name": "python",
   "nbconvert_exporter": "python",
   "pygments_lexer": "ipython3",
   "version": "3.8.5"
  }
 },
 "nbformat": 4,
 "nbformat_minor": 2
}
